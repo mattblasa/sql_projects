{
 "cells": [
  {
   "cell_type": "code",
   "execution_count": 1,
   "metadata": {},
   "outputs": [],
   "source": [
    "import statistics "
   ]
  },
  {
   "cell_type": "code",
   "execution_count": 7,
   "metadata": {},
   "outputs": [
    {
     "data": {
      "text/plain": [
       "22"
      ]
     },
     "execution_count": 7,
     "metadata": {},
     "output_type": "execute_result"
    }
   ],
   "source": [
    "#common stock percentage returns, 7 year period \n",
    "stock_ret = [4.0, 14.3, 19.0, -14.7, -26.5, 37.2, 23.8]\n",
    "\n",
    "#us treasury bills \n",
    "us_tbill = [6.5, 4.4, 3.8, 6.9, 8.0, 5.8, 5.1]\n",
    "round(statistics.stdev(stock_ret))"
   ]
  },
  {
   "cell_type": "code",
   "execution_count": 10,
   "metadata": {
    "scrolled": true
   },
   "outputs": [
    {
     "data": {
      "text/plain": [
       "22"
      ]
     },
     "execution_count": 10,
     "metadata": {},
     "output_type": "execute_result"
    }
   ],
   "source": [
    "round(statistics.stdev(stock_ret))"
   ]
  },
  {
   "cell_type": "code",
   "execution_count": 11,
   "metadata": {},
   "outputs": [
    {
     "data": {
      "text/plain": [
       "22"
      ]
     },
     "execution_count": 11,
     "metadata": {},
     "output_type": "execute_result"
    }
   ],
   "source": [
    "#common stock percentage returns, 7 year period \n",
    "stock_ret = [4.0, 14.3, 19.0, -14.7, -26.5, 37.2, 23.8]\n",
    "\n",
    "#us treasury bills \n",
    "us_tbill = [6.5, 4.4, 3.8, 6.9, 8.0, 5.8, 5.1]\n",
    "round(statistics.stdev(stock_ret))"
   ]
  },
  {
   "cell_type": "code",
   "execution_count": 75,
   "metadata": {},
   "outputs": [
    {
     "ename": "SyntaxError",
     "evalue": "invalid syntax (<ipython-input-75-f3edda3faa09>, line 8)",
     "output_type": "error",
     "traceback": [
      "\u001b[1;36m  File \u001b[1;32m\"<ipython-input-75-f3edda3faa09>\"\u001b[1;36m, line \u001b[1;32m8\u001b[0m\n\u001b[1;33m    tbillSd = round(statistics.stdev(us_tibill))\u001b[0m\n\u001b[1;37m          ^\u001b[0m\n\u001b[1;31mSyntaxError\u001b[0m\u001b[1;31m:\u001b[0m invalid syntax\n"
     ]
    }
   ],
   "source": [
    "#common stock percentage returns, 7 year period \n",
    "stock_ret = [4.0, 14.3, 19.0, -14.7, -26.5, 37.2, 23.8]\n",
    "\n",
    "#us treasury bills \n",
    "us_tbill = [6.5, 4.4, 3.8, 6.9, 8.0, 5.8, 5.1]\n",
    "\n",
    "stock_sd = round(statistics.stdev(stock_ret)\n",
    "tbillSd = round(statistics.stdev(us_tibill))\n",
    "\n",
    "print(stock_sd )\n",
    "print(tbillSd )"
   ]
  },
  {
   "cell_type": "code",
   "execution_count": null,
   "metadata": {},
   "outputs": [],
   "source": []
  },
  {
   "cell_type": "code",
   "execution_count": 22,
   "metadata": {},
   "outputs": [
    {
     "ename": "TypeError",
     "evalue": "can only concatenate str (not \"float\") to str",
     "output_type": "error",
     "traceback": [
      "\u001b[1;31m---------------------------------------------------------------------------\u001b[0m",
      "\u001b[1;31mTypeError\u001b[0m                                 Traceback (most recent call last)",
      "\u001b[1;32m<ipython-input-22-f84a27efe149>\u001b[0m in \u001b[0;36m<module>\u001b[1;34m\u001b[0m\n\u001b[0;32m      8\u001b[0m \u001b[0mb\u001b[0m \u001b[1;33m=\u001b[0m \u001b[0mstatistics\u001b[0m\u001b[1;33m.\u001b[0m\u001b[0mstdev\u001b[0m\u001b[1;33m(\u001b[0m\u001b[0mus_tbill\u001b[0m\u001b[1;33m)\u001b[0m\u001b[1;33m\u001b[0m\u001b[1;33m\u001b[0m\u001b[0m\n\u001b[0;32m      9\u001b[0m \u001b[1;33m\u001b[0m\u001b[0m\n\u001b[1;32m---> 10\u001b[1;33m \u001b[0mprint\u001b[0m\u001b[1;33m(\u001b[0m\u001b[1;34m'standard deviation of stock returns is'\u001b[0m \u001b[1;33m+\u001b[0m \u001b[0ma\u001b[0m\u001b[1;33m)\u001b[0m\u001b[1;33m\u001b[0m\u001b[1;33m\u001b[0m\u001b[0m\n\u001b[0m\u001b[0;32m     11\u001b[0m \u001b[0mprint\u001b[0m\u001b[1;33m(\u001b[0m\u001b[1;34m'standard deviation of us tbills is '\u001b[0m\u001b[1;33m+\u001b[0m \u001b[0mb\u001b[0m\u001b[1;33m)\u001b[0m\u001b[1;33m\u001b[0m\u001b[1;33m\u001b[0m\u001b[0m\n",
      "\u001b[1;31mTypeError\u001b[0m: can only concatenate str (not \"float\") to str"
     ]
    }
   ],
   "source": [
    "#common stock percentage returns, 7 year period \n",
    "stock_ret = [4.0, 14.3, 19.0, -14.7, -26.5, 37.2, 23.8]\n",
    "\n",
    "#us treasury bills \n",
    "us_tbill = [6.5, 4.4, 3.8, 6.9, 8.0, 5.8, 5.1]\n",
    "\n",
    "a = statistics.stdev(stock_ret)\n",
    "b = statistics.stdev(us_tbill)\n",
    "\n",
    "print('standard deviation of stock returns is' + a)\n",
    "print('standard deviation of us tbills is '+ b)\n"
   ]
  },
  {
   "cell_type": "code",
   "execution_count": 23,
   "metadata": {},
   "outputs": [
    {
     "ename": "TypeError",
     "evalue": "can only concatenate str (not \"int\") to str",
     "output_type": "error",
     "traceback": [
      "\u001b[1;31m---------------------------------------------------------------------------\u001b[0m",
      "\u001b[1;31mTypeError\u001b[0m                                 Traceback (most recent call last)",
      "\u001b[1;32m<ipython-input-23-823f15023fe5>\u001b[0m in \u001b[0;36m<module>\u001b[1;34m\u001b[0m\n\u001b[0;32m      8\u001b[0m \u001b[0mb\u001b[0m \u001b[1;33m=\u001b[0m \u001b[0mint\u001b[0m\u001b[1;33m(\u001b[0m\u001b[0mstatistics\u001b[0m\u001b[1;33m.\u001b[0m\u001b[0mstdev\u001b[0m\u001b[1;33m(\u001b[0m\u001b[0mus_tbill\u001b[0m\u001b[1;33m)\u001b[0m\u001b[1;33m)\u001b[0m\u001b[1;33m\u001b[0m\u001b[1;33m\u001b[0m\u001b[0m\n\u001b[0;32m      9\u001b[0m \u001b[1;33m\u001b[0m\u001b[0m\n\u001b[1;32m---> 10\u001b[1;33m \u001b[0mprint\u001b[0m\u001b[1;33m(\u001b[0m\u001b[1;34m'standard deviation of stock returns is'\u001b[0m \u001b[1;33m+\u001b[0m \u001b[0ma\u001b[0m\u001b[1;33m)\u001b[0m\u001b[1;33m\u001b[0m\u001b[1;33m\u001b[0m\u001b[0m\n\u001b[0m\u001b[0;32m     11\u001b[0m \u001b[0mprint\u001b[0m\u001b[1;33m(\u001b[0m\u001b[1;34m'standard deviation of us tbills is '\u001b[0m\u001b[1;33m+\u001b[0m \u001b[0mb\u001b[0m\u001b[1;33m)\u001b[0m\u001b[1;33m\u001b[0m\u001b[1;33m\u001b[0m\u001b[0m\n",
      "\u001b[1;31mTypeError\u001b[0m: can only concatenate str (not \"int\") to str"
     ]
    }
   ],
   "source": [
    "#common stock percentage returns, 7 year period \n",
    "stock_ret = [4.0, 14.3, 19.0, -14.7, -26.5, 37.2, 23.8]\n",
    "\n",
    "#us treasury bills \n",
    "us_tbill = [6.5, 4.4, 3.8, 6.9, 8.0, 5.8, 5.1]\n",
    "\n",
    "a = int(statistics.stdev(stock_ret))\n",
    "b = int(statistics.stdev(us_tbill))\n",
    "\n",
    "print('standard deviation of stock returns is' + a)\n",
    "print('standard deviation of us tbills is '+ b)"
   ]
  },
  {
   "cell_type": "code",
   "execution_count": 32,
   "metadata": {},
   "outputs": [
    {
     "name": "stdout",
     "output_type": "stream",
     "text": [
      "5\n"
     ]
    },
    {
     "ename": "TypeError",
     "evalue": "can only concatenate str (not \"int\") to str",
     "output_type": "error",
     "traceback": [
      "\u001b[1;31m---------------------------------------------------------------------------\u001b[0m",
      "\u001b[1;31mTypeError\u001b[0m                                 Traceback (most recent call last)",
      "\u001b[1;32m<ipython-input-32-e3e691420e2b>\u001b[0m in \u001b[0;36m<module>\u001b[1;34m\u001b[0m\n\u001b[0;32m      7\u001b[0m \u001b[0mc\u001b[0m\u001b[1;33m=\u001b[0m \u001b[1;34m'fuck me'\u001b[0m\u001b[1;33m\u001b[0m\u001b[1;33m\u001b[0m\u001b[0m\n\u001b[0;32m      8\u001b[0m \u001b[1;33m\u001b[0m\u001b[0m\n\u001b[1;32m----> 9\u001b[1;33m \u001b[0mprint\u001b[0m\u001b[1;33m(\u001b[0m\u001b[0mc\u001b[0m \u001b[1;33m+\u001b[0m \u001b[0ma\u001b[0m\u001b[1;33m)\u001b[0m\u001b[1;33m\u001b[0m\u001b[1;33m\u001b[0m\u001b[0m\n\u001b[0m",
      "\u001b[1;31mTypeError\u001b[0m: can only concatenate str (not \"int\") to str"
     ]
    }
   ],
   "source": [
    "#test \n",
    "a = 2 \n",
    "b = 3 \n",
    "\n",
    "print(a+b)\n",
    "\n",
    "c= 'fuck me'\n",
    "\n",
    "print(c + a)"
   ]
  },
  {
   "cell_type": "code",
   "execution_count": 25,
   "metadata": {},
   "outputs": [
    {
     "name": "stdout",
     "output_type": "stream",
     "text": [
      "standard deviation of stock returns is 22.302231363913428\n",
      "standard deviation of us tbills is 1.471312986676154\n"
     ]
    }
   ],
   "source": [
    "#common stock percentage returns, 7 year period \n",
    "stock_ret = [4.0, 14.3, 19.0, -14.7, -26.5, 37.2, 23.8]\n",
    "\n",
    "#us treasury bills \n",
    "us_tbill = [6.5, 4.4, 3.8, 6.9, 8.0, 5.8, 5.1]\n",
    "\n",
    "a = str(statistics.stdev(stock_ret))\n",
    "b = str(statistics.stdev(us_tbill))\n",
    "\n",
    "print('standard deviation of stock returns is ' + a)\n",
    "print('standard deviation of us tbills is '+ b)"
   ]
  },
  {
   "cell_type": "code",
   "execution_count": 29,
   "metadata": {},
   "outputs": [
    {
     "name": "stdout",
     "output_type": "stream",
     "text": [
      "standard deviation of stock returns is 22.302\n",
      "standard deviation of us tbills is 1.471\n"
     ]
    }
   ],
   "source": [
    "#common stock percentage returns, 7 year period \n",
    "stock_ret = [4.0, 14.3, 19.0, -14.7, -26.5, 37.2, 23.8]\n",
    "\n",
    "#us treasury bills \n",
    "us_tbill = [6.5, 4.4, 3.8, 6.9, 8.0, 5.8, 5.1]\n",
    "\n",
    "a = str(round(statistics.stdev(stock_ret), 3))\n",
    "b = str(round(statistics.stdev(us_tbill), 3))\n",
    "\n",
    "print('standard deviation of stock returns is ' + a)\n",
    "print('standard deviation of us tbills is '+ b)"
   ]
  },
  {
   "cell_type": "code",
   "execution_count": 30,
   "metadata": {},
   "outputs": [
    {
     "name": "stdout",
     "output_type": "stream",
     "text": [
      "Standard Deviation Part 1\n",
      "standard deviation of stock returns is 22.302\n",
      "standard deviation of us tbills is 1.471\n"
     ]
    }
   ],
   "source": [
    "#common stock percentage returns, 7 year period \n",
    "stock_ret = [4.0, 14.3, 19.0, -14.7, -26.5, 37.2, 23.8]\n",
    "\n",
    "#us treasury bills \n",
    "us_tbill = [6.5, 4.4, 3.8, 6.9, 8.0, 5.8, 5.1]\n",
    "\n",
    "a = str(round(statistics.stdev(stock_ret), 3))\n",
    "b = str(round(statistics.stdev(us_tbill), 3))\n",
    "\n",
    "print('Standard Deviation Part 1')\n",
    "print('standard deviation of stock returns is ' + a)\n",
    "print('standard deviation of us tbills is '+ b)"
   ]
  },
  {
   "cell_type": "code",
   "execution_count": 44,
   "metadata": {},
   "outputs": [
    {
     "ename": "TypeError",
     "evalue": "unsupported operand type(s) for -: 'str' and 'str'",
     "output_type": "error",
     "traceback": [
      "\u001b[1;31m---------------------------------------------------------------------------\u001b[0m",
      "\u001b[1;31mTypeError\u001b[0m                                 Traceback (most recent call last)",
      "\u001b[1;32m<ipython-input-44-b8dd1828fdaf>\u001b[0m in \u001b[0;36m<module>\u001b[1;34m\u001b[0m\n\u001b[0;32m     22\u001b[0m \u001b[1;31m#68% of observations : mean + 1 standard deviation\u001b[0m\u001b[1;33m\u001b[0m\u001b[1;33m\u001b[0m\u001b[1;33m\u001b[0m\u001b[0m\n\u001b[0;32m     23\u001b[0m \u001b[0mem68_upper\u001b[0m \u001b[1;33m=\u001b[0m \u001b[0mm1\u001b[0m \u001b[1;33m+\u001b[0m \u001b[0ma\u001b[0m\u001b[1;33m\u001b[0m\u001b[1;33m\u001b[0m\u001b[0m\n\u001b[1;32m---> 24\u001b[1;33m \u001b[0mem68_lower\u001b[0m \u001b[1;33m=\u001b[0m \u001b[0mm1\u001b[0m \u001b[1;33m-\u001b[0m \u001b[0ma\u001b[0m\u001b[1;33m\u001b[0m\u001b[1;33m\u001b[0m\u001b[0m\n\u001b[0m\u001b[0;32m     25\u001b[0m \u001b[1;33m\u001b[0m\u001b[0m\n\u001b[0;32m     26\u001b[0m \u001b[1;31m#95% of observations : mean + 2 standard deviation\u001b[0m\u001b[1;33m\u001b[0m\u001b[1;33m\u001b[0m\u001b[1;33m\u001b[0m\u001b[0m\n",
      "\u001b[1;31mTypeError\u001b[0m: unsupported operand type(s) for -: 'str' and 'str'"
     ]
    }
   ],
   "source": [
    "#Defintions\n",
    "\n",
    "#common stock percentage returns, 7 year period \n",
    "stock_ret = [4.0, 14.3, 19.0, -14.7, -26.5, 37.2, 23.8]\n",
    "\n",
    "#us treasury bills \n",
    "us_tbill = [6.5, 4.4, 3.8, 6.9, 8.0, 5.8, 5.1]\n",
    "\n",
    "#Mean \n",
    "\n",
    "m1 = str(round(statistics.mean(stock_ret), 3))\n",
    "m2 = str(round(statistics.mean(us_tbill), 3))\n",
    "\n",
    "#Standard Deviation\n",
    "\n",
    "a = str(round(statistics.stdev(stock_ret), 3))\n",
    "b = str(round(statistics.stdev(us_tbill), 3))\n",
    "    \n",
    "\n",
    "#Emprical Rule Stock \n",
    "\n",
    "#68% of observations : mean + 1 standard deviation \n",
    "em68_upper = m1 + a\n",
    "em68_lower = m1 - a\n",
    "\n",
    "#95% of observations : mean + 2 standard deviation \n",
    "em95_upper = (2 * a) + m1\n",
    "em95_lower = (2 * a) - m1\n",
    "\n",
    "\n",
    "print('Mean')\n",
    "print('Mean of stock returns is ' + m1)\n",
    "print('Mean of us tbills is '+ m2)\n",
    "print('     ')\n",
    "print('Standard Deviation')\n",
    "print('standard deviation of stock returns is ' + a)\n",
    "print('standard deviation of us tbills is '+ b)\n",
    "print('     ')\n",
    "\n",
    "#print('Emprical Rule: Stocks ')\n",
    "#print(' 68% of change is between ' + em68_lower + ' and ' + em68_lower)\n"
   ]
  },
  {
   "cell_type": "code",
   "execution_count": 48,
   "metadata": {},
   "outputs": [
    {
     "name": "stdout",
     "output_type": "stream",
     "text": [
      "Mean\n",
      "Mean of stock returns is 8.157\n",
      "Mean of us tbills is 5.786\n",
      "     \n",
      "Standard Deviation\n",
      "standard deviation of stock returns is 22.302\n",
      "standard deviation of us tbills is 1.471\n",
      "     \n"
     ]
    }
   ],
   "source": [
    "#Defintions\n",
    "\n",
    "#common stock percentage returns, 7 year period \n",
    "stock_ret = [4.0, 14.3, 19.0, -14.7, -26.5, 37.2, 23.8]\n",
    "\n",
    "#us treasury bills \n",
    "us_tbill = [6.5, 4.4, 3.8, 6.9, 8.0, 5.8, 5.1]\n",
    "\n",
    "#Mean \n",
    "\n",
    "m1 = str(round(statistics.mean(stock_ret), 3))\n",
    "m2 = str(round(statistics.mean(us_tbill), 3))\n",
    "\n",
    "#Standard Deviation\n",
    "\n",
    "a = str(round(statistics.stdev(stock_ret), 3))\n",
    "b = str(round(statistics.stdev(us_tbill), 3))\n",
    "    \n",
    "\n",
    "#Emprical Rule Stock \n",
    "\n",
    "#68% of observations : mean + 1 standard deviation \n",
    "#em68_upper = int(float(m1 + a))\n",
    "#em68_lower = int(float(m1 - a))\n",
    "\n",
    "#95% of observations : mean + 2 standard deviation \n",
    "#em95_upper = (2 * a) + m1\n",
    "#em95_lower = (2 * a) - m1\n",
    "\n",
    "\n",
    "print('Mean')\n",
    "print('Mean of stock returns is ' + m1)\n",
    "print('Mean of us tbills is '+ m2)\n",
    "print('     ')\n",
    "print('Standard Deviation')\n",
    "print('standard deviation of stock returns is ' + a)\n",
    "print('standard deviation of us tbills is '+ b)\n",
    "print('     ')\n",
    "\n",
    "#print('Emprical Rule: Stocks ')\n",
    "#print(' 68% of change is between ' + em68_lower + ' and ' + em68_lower)"
   ]
  },
  {
   "cell_type": "code",
   "execution_count": 53,
   "metadata": {},
   "outputs": [
    {
     "name": "stdout",
     "output_type": "stream",
     "text": [
      "8.157\n",
      "5.786\n",
      "<class 'str'>\n"
     ]
    }
   ],
   "source": [
    "#Defintions\n",
    "\n",
    "#common stock percentage returns, 7 year period \n",
    "stock_ret = [4.0, 14.3, 19.0, -14.7, -26.5, 37.2, 23.8]\n",
    "\n",
    "#us treasury bills \n",
    "us_tbill = [6.5, 4.4, 3.8, 6.9, 8.0, 5.8, 5.1]\n",
    "\n",
    "#Mean \n",
    "\n",
    "m1 = str(round(statistics.mean(stock_ret), 3))\n",
    "m2 = str(round(statistics.mean(us_tbill), 3))\n",
    "\n",
    "print(m1)\n",
    "print(m2)\n",
    "\n",
    "#Test Emprical Rule Stock \n",
    "\n",
    "#68% of observations : mean + 1 standard deviation \n",
    "#em68_upper = int(float(m1 + a))\n",
    "#em68_lower = int(float(m1 - a))\n",
    "\n",
    "print(type(m1))"
   ]
  },
  {
   "cell_type": "code",
   "execution_count": 66,
   "metadata": {},
   "outputs": [
    {
     "name": "stdout",
     "output_type": "stream",
     "text": [
      "Mean\n",
      "Mean of stock returns is 8.157\n",
      "Mean of us tbills is 5.786\n",
      "     \n",
      "Standard Deviation\n",
      "standard deviation of stock returns is 22.302\n",
      "standard deviation of us tbills is 1.471\n",
      "     \n",
      "Emprical Rule: Stocks \n",
      " 68% of change is between -14.145 and 30.459\n"
     ]
    }
   ],
   "source": [
    "#Defintions\n",
    "\n",
    "#common stock percentage returns, 7 year period \n",
    "stock_ret = [4.0, 14.3, 19.0, -14.7, -26.5, 37.2, 23.8]\n",
    "\n",
    "#us treasury bills \n",
    "us_tbill = [6.5, 4.4, 3.8, 6.9, 8.0, 5.8, 5.1]\n",
    "\n",
    "#Mean \n",
    "\n",
    "m1 = round(statistics.mean(stock_ret), 3)\n",
    "m2 = round(statistics.mean(us_tbill), 3)\n",
    "\n",
    "#Standard Deviation\n",
    "\n",
    "a = round(statistics.stdev(stock_ret), 3)\n",
    "b = round(statistics.stdev(us_tbill), 3)\n",
    "    \n",
    "\n",
    "#Emprical Rule Stock \n",
    "\n",
    "#68% of observations : mean + 1 standard deviation \n",
    "em68_upper = (m1 + a)\n",
    "em68_lower = (m1 - a)\n",
    "\n",
    "#95% of observations : mean + 2 standard deviation \n",
    "em95_upper = (2 * a) + m1\n",
    "em95_lower = (2 * a) - m1\n",
    "\n",
    "\n",
    "print('Mean')\n",
    "print('Mean of stock returns is ' + str(m1))\n",
    "print('Mean of us tbills is '+ str(m2))\n",
    "print('     ')\n",
    "print('Standard Deviation')\n",
    "print('standard deviation of stock returns is ' + str(a))\n",
    "print('standard deviation of us tbills is '+ str(b))\n",
    "print('     ')\n",
    "\n",
    "print('Emprical Rule: Stocks ')\n",
    "print(' 68% of change is between ' + str(em68_lower) + ' and ' + str(em68_upper))\n",
    "print(' 95% of change is between ' + str(em95_lower) + ' and ' + str(em95_upper))\n"
   ]
  },
  {
   "cell_type": "code",
   "execution_count": null,
   "metadata": {},
   "outputs": [],
   "source": []
  },
  {
   "cell_type": "code",
   "execution_count": 62,
   "metadata": {},
   "outputs": [
    {
     "name": "stdout",
     "output_type": "stream",
     "text": [
      "30.459\n",
      "-14.145\n"
     ]
    }
   ],
   "source": [
    "#Defintions\n",
    "\n",
    "#common stock percentage returns, 7 year period \n",
    "stock_ret = [4.0, 14.3, 19.0, -14.7, -26.5, 37.2, 23.8]\n",
    "\n",
    "#us treasury bills \n",
    "us_tbill = [6.5, 4.4, 3.8, 6.9, 8.0, 5.8, 5.1]\n",
    "\n",
    "#Mean \n",
    "\n",
    "m1 = round(statistics.mean(stock_ret), 3)\n",
    "m2 = round(statistics.mean(us_tbill), 3)\n",
    "\n",
    "#Standard Deviation\n",
    "\n",
    "a = round(statistics.stdev(stock_ret), 3)\n",
    "b = round(statistics.stdev(us_tbill), 3)\n",
    "\n",
    "test1 = m1 + a \n",
    "test2 = m1 - a\n",
    "\n",
    "print(test1)\n",
    "print(test2)"
   ]
  },
  {
   "cell_type": "code",
   "execution_count": 6,
   "metadata": {},
   "outputs": [
    {
     "name": "stdout",
     "output_type": "stream",
     "text": [
      "Mean\n",
      "Mean of stock returns is 8.157\n",
      "Mean of us tbills is 5.786\n",
      "     \n",
      "Standard Deviation\n",
      "standard deviation of stock returns is 22.302\n",
      "standard deviation of us tbills is 1.471\n",
      "     \n",
      "Emprical Rule: Stocks \n",
      " 68% of change is between -14.145 percent  and 30.459 percent.\n",
      " 95% of change is between 36.447 percent  and 52.760999999999996 percent.\n",
      " 99% of change is between 58.749 percent  and 75.063 percent.\n"
     ]
    }
   ],
   "source": [
    "import statistics\n",
    "\n",
    "#Defintions\n",
    "\n",
    "#common stock percentage returns, 7 year period \n",
    "stock_ret = [4.0, 14.3, 19.0, -14.7, -26.5, 37.2, 23.8]\n",
    "\n",
    "#us treasury bills \n",
    "us_tbill = [6.5, 4.4, 3.8, 6.9, 8.0, 5.8, 5.1]\n",
    "\n",
    "#Mean \n",
    "\n",
    "m1 = round(statistics.mean(stock_ret), 3)\n",
    "m2 = round(statistics.mean(us_tbill), 3)\n",
    "\n",
    "#Standard Deviation\n",
    "\n",
    "a = round(statistics.stdev(stock_ret), 3)\n",
    "b = round(statistics.stdev(us_tbill), 3)\n",
    "    \n",
    "\n",
    "#Emprical Rule Stock \n",
    "\n",
    "#68% of observations : mean + 1 standard deviation \n",
    "em68_upper = (m1 + a)\n",
    "em68_lower = (m1 - a)\n",
    "\n",
    "#95% of observations : mean + 2 standard deviation \n",
    "em95_upper = (2 * a) + m1\n",
    "em95_lower = (2 * a) - m1\n",
    "\n",
    "#99% of observations : mean + 2 standard deviation \n",
    "em99_upper = round((3 * a) + m1, 3)\n",
    "em99_lower = round((3 * a) - m1, 3)\n",
    "\n",
    "\n",
    "print('Mean')\n",
    "print('Mean of stock returns is ' + str(m1))\n",
    "print('Mean of us tbills is '+ str(m2))\n",
    "print('     ')\n",
    "print('Standard Deviation')\n",
    "print('standard deviation of stock returns is ' + str(a))\n",
    "print('standard deviation of us tbills is '+ str(b))\n",
    "print('     ')\n",
    "\n",
    "print('Emprical Rule: Stocks ')\n",
    "print(' 68% of change is between ' + str(em68_lower) + ' percent ' + ' and ' + str(em68_upper) + ' percent.')\n",
    "print(' 95% of change is between ' + str(em95_lower)  + ' percent ' + ' and ' + str(em95_upper) + ' percent.')\n",
    "print(' 99% of change is between ' + str(em99_lower)  + ' percent ' + ' and ' + str(em99_upper) + ' percent.')"
   ]
  },
  {
   "cell_type": "code",
   "execution_count": 7,
   "metadata": {},
   "outputs": [
    {
     "ename": "IndentationError",
     "evalue": "unexpected indent (<ipython-input-7-b48c8bb126ee>, line 13)",
     "output_type": "error",
     "traceback": [
      "\u001b[1;36m  File \u001b[1;32m\"<ipython-input-7-b48c8bb126ee>\"\u001b[1;36m, line \u001b[1;32m13\u001b[0m\n\u001b[1;33m    m1 = round(statistics.mean(stock_ret), 3)\u001b[0m\n\u001b[1;37m    ^\u001b[0m\n\u001b[1;31mIndentationError\u001b[0m\u001b[1;31m:\u001b[0m unexpected indent\n"
     ]
    }
   ],
   "source": [
    "import statistics\n",
    "\n",
    "# Defintions\n",
    "\n",
    "# common stock percentage returns, 7 year period\n",
    "stock_ret = [4.0, 14.3, 19.0, -14.7, -26.5, 37.2, 23.8]\n",
    "\n",
    "# us treasury bills\n",
    "us_tbill = [6.5, 4.4, 3.8, 6.9, 8.0, 5.8, 5.1]\n",
    "\n",
    "# Mean\n",
    "    # Mean Stock Returns\n",
    "    m1 = round(statistics.mean(stock_ret), 3)\n",
    "    # Mean US Tbill\n",
    "    m2 = round(statistics.mean(us_tbill), 3)\n",
    "\n",
    "# Standard Deviation\n",
    "    #SD Stock Returns\n",
    "    a = round(statistics.stdev(stock_ret), 3)\n",
    "    #SD US Tbill\n",
    "    b = round(statistics.stdev(us_tbill), 3)\n",
    "\n",
    "# Emprical Rule Stock\n",
    "\n",
    "    # 68% of observations : mean + 1 standard deviation\n",
    "    em68_upper = (m1 + a)\n",
    "    em68_lower = (m1 - a)\n",
    "\n",
    "    # 95% of observations : mean + 2 standard deviation\n",
    "    em95_upper = round((2 * a) + m1, 2)\n",
    "    em95_lower = round((2 * a) - m1, 2)\n",
    "\n",
    "    # 99% of observations : mean + 2 standard deviation\n",
    "    em99_upper = round((3 * a) + m1, 2)\n",
    "    em99_lower = round((3 * a) - m1, 2)\n",
    "\n",
    "# Emprical Rule US T-bills\n",
    "    # 68% of observations : mean + 1 standard deviation\n",
    "    emt68_upper = (m2 + b)\n",
    "    emt68_lower = (m2 - b)\n",
    "\n",
    "    # 95% of observations : mean + 2 standard deviation\n",
    "    emt95_upper = round((2 * b) + m2, 2)\n",
    "    emt95_lower = round((2 * b) - m2, 2)\n",
    "\n",
    "    # 99% of observations : mean + 2 standard deviation\n",
    "    emt99_upper = round((3 * b) + m2, 2)\n",
    "    emt99_lower = round((3 * b) - m2, 2)\n",
    "\n",
    "\n",
    "print('Mean')\n",
    "print('Mean of stock returns is ' + str(m1))\n",
    "print('Mean of us tbills is ' + str(m2))\n",
    "print('     ')\n",
    "print('Standard Deviation')\n",
    "print('standard deviation of stock returns is ' + str(a))\n",
    "print('standard deviation of us tbills is ' + str(b))\n",
    "print('     ')\n",
    "\n",
    "print('Emprical Rule: Stocks ')\n",
    "print(' 68% of  stock changes are between ' + str(em68_lower) + ' percent ' + ' and ' + str(em68_upper) + ' % ')\n",
    "print(' 95% of stock changes are between ' + str(em95_lower) + ' percent ' + ' and ' + str(em95_upper) + ' %.')\n",
    "print(' 99% of stock changes are between ' + str(em99_lower) + ' percent ' + ' and ' + str(em99_upper) + ' %.')"
   ]
  },
  {
   "cell_type": "code",
   "execution_count": null,
   "metadata": {},
   "outputs": [],
   "source": []
  }
 ],
 "metadata": {
  "kernelspec": {
   "display_name": "Python 3",
   "language": "python",
   "name": "python3"
  },
  "language_info": {
   "codemirror_mode": {
    "name": "ipython",
    "version": 3
   },
   "file_extension": ".py",
   "mimetype": "text/x-python",
   "name": "python",
   "nbconvert_exporter": "python",
   "pygments_lexer": "ipython3",
   "version": "3.7.2"
  }
 },
 "nbformat": 4,
 "nbformat_minor": 2
}
